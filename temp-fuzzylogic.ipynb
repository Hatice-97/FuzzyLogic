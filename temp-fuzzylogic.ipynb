{
  "cells": [
    {
      "metadata": {
        "trusted": true
      },
      "cell_type": "code",
      "source": "from fuzzy_logic import *\n\n\ndef main():\n    targetTemp = float(input('Enter Target Temperature: '))\n    currentTemp = float(input('Enter Current Temperature: '))\n    prevTemp = float(input('Enter Previous Temperature: '))\n\n    prevError = targetTemp - prevTemp\n    currentError = targetTemp - currentTemp\n\n    error = currentError\n    errorDerivative = prevError - currentError\n\n    rules = evaluateRules(error, errorDerivative)\n    aggregateValues = fisAggregation(rules,\n                                     fuzzifyOutputCooler(),\n                                     fuzzifyOutputNoChange(),\n                                     fuzzifyOutputHeater())\n\n    centroid = getCentroid(aggregateValues)\n\n    print(error)\n    print(errorDerivative)\n    print(centroid)\n\n\ndef evaluateRules(error, errorDerivative):\n    rules = [[0] * 3 for i in range(3)]\n\n    fuzzifiedErrorNeg = fuzzifyErrorNeg(error)\n    fuzzifiedErrorZero = fuzzifyErrorZero(error)\n    fuzzifiedErrorPos = fuzzifyErrorPos(error)\n\n    fuzzifiedErrorDotNeg = fuzzifyErrorDotNeg(errorDerivative)\n    fuzzifiedErrorDotZero = fuzzifyErrorDotZero(errorDerivative)\n    fuzzifiedErrorDotPos = fuzzifyErrorDotPos(errorDerivative)\n    # RULE 1\n    rules[0][0] = min(fuzzifiedErrorNeg, fuzzifiedErrorDotNeg)\n    # RULE 2\n    rules[0][1] = min(fuzzifiedErrorZero, fuzzifiedErrorDotNeg)\n    # RULE 3\n    rules[0][2] = min(fuzzifiedErrorPos, fuzzifiedErrorDotNeg)\n    # RULE 4\n    rules[1][0] = min(fuzzifiedErrorNeg, fuzzifiedErrorDotZero)\n    # RULE 5\n    rules[1][1] = min(fuzzifiedErrorZero, fuzzifiedErrorDotZero)\n    # RULE 6\n    rules[1][2] = min(fuzzifiedErrorPos, fuzzifiedErrorDotZero)\n    # RULE 7\n    rules[2][0] = min(fuzzifiedErrorNeg, fuzzifiedErrorDotPos)\n    # RULE 8\n    rules[2][1] = min(fuzzifiedErrorZero, fuzzifiedErrorDotPos)\n    # RULE 9\n    rules[2][2] = min(fuzzifiedErrorPos, fuzzifiedErrorDotPos)\n    return rules\n\n\ndef fuzzifyErrorPos(error):\n    return trimf(error, [0, 5, 5])\n\n\ndef fuzzifyErrorZero(error):\n    return trimf(error, [-5, 0, 5])\n\n\ndef fuzzifyErrorNeg(error):\n    return trimf(error, [-5, -5, 0])\n\n\ndef fuzzifyErrorDotPos(errorDot):\n    return trapmf(errorDot, [1, 1.5, 5, 5])\n\n\ndef fuzzifyErrorDotZero(errorDot):\n    return trimf(errorDot, [-2, 0, 2])\n\n\ndef fuzzifyErrorDotNeg(errorDot):\n    return trapmf(errorDot, [-5, -5, -1.5, -1])\n\n\ndef fuzzifyOutputCooler():\n    return getTrapmfPlots(0, 200, [0, 0, 30, 95], \"left\")\n\n\ndef fuzzifyOutputNoChange():\n    return getTrimfPlots(0, 200, [90, 100, 110])\n\n\ndef fuzzifyOutputHeater():\n    return getTrapmfPlots(0, 200, [105, 170, 200, 200], \"right\")\n\n\ndef fisAggregation(rules, pcc, pcnc, pch):\n    result = [0] * 200\n    for rule in range(len(rules)):\n        for i in range(200):\n            if rules[rule][0] > 0 and i < 95:\n                result[i] = min(rules[rule][0], pcc[i])\n            if rules[rule][1] > 0 and i > 90 and i < 110:\n                result[i] = min(rules[rule][1], pcnc[i])\n            if rules[rule][2] > 0 and i > 105 and i < 200:\n                result[i] = min(rules[rule][2], pch[i])\n    return result\n\n\nif __name__ == \"__main__\":\n    main()",
      "execution_count": 1,
      "outputs": [
        {
          "output_type": "stream",
          "name": "stdout",
          "text": "Enter Target Temperature: 34\nEnter Current Temperature: 45\nEnter Previous Temperature: 23\n"
        },
        {
          "output_type": "error",
          "ename": "ZeroDivisionError",
          "evalue": "integer division or modulo by zero",
          "traceback": [
            "\u001b[0;31m\u001b[0m",
            "\u001b[0;31mZeroDivisionError\u001b[0mTraceback (most recent call last)",
            "\u001b[0;32m<ipython-input-1-a5f4de5a636b>\u001b[0m in \u001b[0;36m<module>\u001b[0;34m()\u001b[0m\n\u001b[1;32m    107\u001b[0m \u001b[0;34m\u001b[0m\u001b[0m\n\u001b[1;32m    108\u001b[0m \u001b[0;32mif\u001b[0m \u001b[0m__name__\u001b[0m \u001b[0;34m==\u001b[0m \u001b[0;34m\"__main__\"\u001b[0m\u001b[0;34m:\u001b[0m\u001b[0;34m\u001b[0m\u001b[0m\n\u001b[0;32m--> 109\u001b[0;31m     \u001b[0mmain\u001b[0m\u001b[0;34m(\u001b[0m\u001b[0;34m)\u001b[0m\u001b[0;34m\u001b[0m\u001b[0m\n\u001b[0m",
            "\u001b[0;32m<ipython-input-1-a5f4de5a636b>\u001b[0m in \u001b[0;36mmain\u001b[0;34m()\u001b[0m\n\u001b[1;32m     19\u001b[0m                                      fuzzifyOutputHeater())\n\u001b[1;32m     20\u001b[0m \u001b[0;34m\u001b[0m\u001b[0m\n\u001b[0;32m---> 21\u001b[0;31m     \u001b[0mcentroid\u001b[0m \u001b[0;34m=\u001b[0m \u001b[0mgetCentroid\u001b[0m\u001b[0;34m(\u001b[0m\u001b[0maggregateValues\u001b[0m\u001b[0;34m)\u001b[0m\u001b[0;34m\u001b[0m\u001b[0m\n\u001b[0m\u001b[1;32m     22\u001b[0m \u001b[0;34m\u001b[0m\u001b[0m\n\u001b[1;32m     23\u001b[0m     \u001b[0;32mprint\u001b[0m\u001b[0;34m(\u001b[0m\u001b[0merror\u001b[0m\u001b[0;34m)\u001b[0m\u001b[0;34m\u001b[0m\u001b[0m\n",
            "\u001b[0;32m/home/nbuser/library/fuzzy_logic.pyc\u001b[0m in \u001b[0;36mgetCentroid\u001b[0;34m(aggregatedPlots)\u001b[0m\n\u001b[1;32m    104\u001b[0m         \u001b[0mcentroidNum\u001b[0m \u001b[0;34m+=\u001b[0m \u001b[0mxAxis\u001b[0m\u001b[0;34m[\u001b[0m\u001b[0mi\u001b[0m\u001b[0;34m]\u001b[0m \u001b[0;34m*\u001b[0m \u001b[0maggregatedPlots\u001b[0m\u001b[0;34m[\u001b[0m\u001b[0mi\u001b[0m\u001b[0;34m]\u001b[0m\u001b[0;34m\u001b[0m\u001b[0m\n\u001b[1;32m    105\u001b[0m         \u001b[0mcentroidDenum\u001b[0m \u001b[0;34m+=\u001b[0m \u001b[0maggregatedPlots\u001b[0m\u001b[0;34m[\u001b[0m\u001b[0mi\u001b[0m\u001b[0;34m]\u001b[0m\u001b[0;34m\u001b[0m\u001b[0m\n\u001b[0;32m--> 106\u001b[0;31m     \u001b[0;32mreturn\u001b[0m \u001b[0mcentroidNum\u001b[0m \u001b[0;34m/\u001b[0m \u001b[0mcentroidDenum\u001b[0m\u001b[0;34m\u001b[0m\u001b[0m\n\u001b[0m",
            "\u001b[0;31mZeroDivisionError\u001b[0m: integer division or modulo by zero"
          ]
        }
      ]
    },
    {
      "metadata": {
        "trusted": true
      },
      "cell_type": "code",
      "source": "",
      "execution_count": null,
      "outputs": []
    }
  ],
  "metadata": {
    "kernelspec": {
      "name": "python2",
      "display_name": "Python 2",
      "language": "python"
    },
    "language_info": {
      "mimetype": "text/x-python",
      "nbconvert_exporter": "python",
      "name": "python",
      "pygments_lexer": "ipython2",
      "version": "2.7.15",
      "file_extension": ".py",
      "codemirror_mode": {
        "version": 2,
        "name": "ipython"
      }
    }
  },
  "nbformat": 4,
  "nbformat_minor": 1
}