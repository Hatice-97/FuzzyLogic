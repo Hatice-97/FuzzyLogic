{
  "cells": [
    {
      "metadata": {
        "trusted": true
      },
      "cell_type": "code",
      "source": "import numpy as np\nimport skfuzzy as fuzz\nimport skfuzzy.membership as mf\nimport matplotlib.pyplot as plt\n\n# Değişkenlerin oluşturulması\n\nx_pedal = np.arange(0, 101, 1)\nx_speed = np.arange(0, 101, 1)\ny_brake = np.arange(0, 101, 1)\n\n# Üyelik fonksiyonlarının oluşturulması\n\npedal_low = mf.trimf(x_pedal, [0, 0, 50])\npedal_med = mf.trimf(x_pedal, [0, 50, 100])\npedal_hig = mf.trimf(x_pedal, [50, 100, 100])\n\nspeed_low = mf.trimf(x_pedal, [0, 0, 60])\nspeed_med = mf.trimf(x_pedal, [20, 50, 80])\nspeed_hig = mf.trimf(x_pedal, [40, 100, 100])\n\nbrake_poor = mf.trimf(y_brake, [0, 0, 100])\nbrake_strong = mf.trimf(y_brake, [0, 100, 100])\n\n# Veri görselleştirme\n\nfig, (ax0, ax1, ax2) = plt.subplots(nrows = 3, figsize =(6, 10))\n\nax0.plot(x_pedal, pedal_low, 'r', linewidth = 2, label = 'Düşük')\nax0.plot(x_pedal, pedal_med, 'g', linewidth = 2, label = 'Orta')\nax0.plot(x_pedal, pedal_hig, 'b', linewidth = 2, label = 'Yüksek')\nax0.set_title('Pedal Basıncı')\nax0.legend()\n\nax1.plot(x_speed, speed_low, 'r', linewidth = 2, label = 'Düşük')\nax1.plot(x_speed, speed_med, 'g', linewidth = 2, label = 'Orta')\nax1.plot(x_speed, speed_hig, 'b', linewidth = 2, label = 'Yüksek')\nax1.set_title('Araç Hızı')\nax1.legend()\n\nax2.plot(y_brake, brake_poor, 'r', linewidth = 2, label = 'Zayıf')\nax2.plot(y_brake, brake_strong, 'b', linewidth = 2, label = 'Güçlü')\nax2.set_title('Fren')\nax2.legend()\n\nplt.tight_layout()\n\ninput_pedal = 40\ninput_speed = 75\n\n# Üyelik derecelerinin hesaplanması\n\npedal_fit_low = fuzz.interp_membership(x_pedal, pedal_low, input_pedal)\npedal_fit_med = fuzz.interp_membership(x_pedal, pedal_med, input_pedal)\npedal_fit_hig = fuzz.interp_membership(x_pedal, pedal_hig, input_pedal)\n\nspeed_fit_low = fuzz.interp_membership(x_speed, speed_low, input_speed)\nspeed_fit_med = fuzz.interp_membership(x_speed, speed_med, input_speed)\nspeed_fit_hig = fuzz.interp_membership(x_speed, speed_hig, input_speed)\n\n# Kuralların oluşturulması\n\nrule1 = np.fmin(pedal_fit_med, brake_strong)\nrule2 = np.fmin(np.fmin(pedal_fit_hig, speed_fit_hig), brake_strong)\nrule3 = np.fmin(np.fmax(pedal_fit_low, speed_fit_low), brake_poor)\nrule4 = np.fmin(pedal_fit_low, brake_poor)\n\n# Birleşim kümelerinin oluşturulması\n\nout_strong = np.fmax(rule1, rule2)\nout_poor = np.fmax(rule3, rule4)\n\n# Veri görselleştirme\n\nbrake0 = np.zeros_like(y_brake)\n\nfig, ax0 = plt.subplots(figsize = (7, 4))\nax0.fill_between(y_brake, brake0, out_poor, facecolor = 'r', alpha = 0.7)\nax0.plot(y_brake, brake_poor, 'r', linestyle = '--')\nax0.fill_between(y_brake, brake0, out_strong, facecolor = 'g', alpha = 0.7)\nax0.plot(y_brake, brake_strong, 'g', linestyle = '--')\nax0.set_title('Fren Çıkışı')\n\nplt.tight_layout()\n\n# Durulaştırma\n\nout_brake = np.fmax(out_poor, out_strong)\n\ndefuzzified  = fuzz.defuzz(y_brake, out_brake, 'centroid')\n\nresult = fuzz.interp_membership(y_brake, out_brake, defuzzified)\n\n# Sonuç\n\nprint(\"(Fren)Çıkış Değeri:\", defuzzified)\n\n# Veri görselleştirme\n\nfig, ax0 = plt.subplots(figsize=(7, 4))\n\nax0.plot(y_brake, brake_poor, 'b', linewidth = 0.5, linestyle = '--')\nax0.plot(y_brake, brake_strong, 'g', linewidth = 0.5, linestyle = '--')\nax0.fill_between(y_brake, brake0, out_brake, facecolor = 'Orange', alpha = 0.7)\nax0.plot([defuzzified , defuzzified], [0, result], 'k', linewidth = 1.5, alpha = 0.9)\nax0.set_title('Ağırlık Merkezi ile Durulaştırma')\n\nplt.tight_layout()",
      "execution_count": 1,
      "outputs": [
        {
          "output_type": "error",
          "ename": "ImportError",
          "evalue": "No module named 'skfuzzy'",
          "traceback": [
            "\u001b[0;31m---------------------------------------------------------------------------\u001b[0m",
            "\u001b[0;31mImportError\u001b[0m                               Traceback (most recent call last)",
            "\u001b[0;32m<ipython-input-1-a928f11b6619>\u001b[0m in \u001b[0;36m<module>\u001b[0;34m()\u001b[0m\n\u001b[1;32m      1\u001b[0m \u001b[0;32mimport\u001b[0m \u001b[0mnumpy\u001b[0m \u001b[0;32mas\u001b[0m \u001b[0mnp\u001b[0m\u001b[0;34m\u001b[0m\u001b[0m\n\u001b[0;32m----> 2\u001b[0;31m \u001b[0;32mimport\u001b[0m \u001b[0mskfuzzy\u001b[0m \u001b[0;32mas\u001b[0m \u001b[0mfuzz\u001b[0m\u001b[0;34m\u001b[0m\u001b[0m\n\u001b[0m\u001b[1;32m      3\u001b[0m \u001b[0;32mimport\u001b[0m \u001b[0mskfuzzy\u001b[0m\u001b[0;34m.\u001b[0m\u001b[0mmembership\u001b[0m \u001b[0;32mas\u001b[0m \u001b[0mmf\u001b[0m\u001b[0;34m\u001b[0m\u001b[0m\n\u001b[1;32m      4\u001b[0m \u001b[0;32mimport\u001b[0m \u001b[0mmatplotlib\u001b[0m\u001b[0;34m.\u001b[0m\u001b[0mpyplot\u001b[0m \u001b[0;32mas\u001b[0m \u001b[0mplt\u001b[0m\u001b[0;34m\u001b[0m\u001b[0m\n\u001b[1;32m      5\u001b[0m \u001b[0;34m\u001b[0m\u001b[0m\n",
            "\u001b[0;31mImportError\u001b[0m: No module named 'skfuzzy'"
          ]
        }
      ]
    },
    {
      "metadata": {
        "trusted": true
      },
      "cell_type": "code",
      "source": "import tensorflow as tf\nimport numpy as np\nimport matplotlib.pyplot as plt\n\n\nclass ANFIS:\n\n    def __init__(self, n_inputs, n_rules, learning_rate=1e-2):\n        self.n = n_inputs\n        self.m = n_rules\n        self.inputs = tf.placeholder(tf.float32, shape=(None, n_inputs))  # Input\n        self.targets = tf.placeholder(tf.float32, shape=None)  # Desired output\n        mu = tf.get_variable(\"mu\", [n_rules * n_inputs],\n                             initializer=tf.random_normal_initializer(0, 1))  # Means of Gaussian MFS\n        sigma = tf.get_variable(\"sigma\", [n_rules * n_inputs],\n                                initializer=tf.random_normal_initializer(0, 1))  # Standard deviations of Gaussian MFS\n        y = tf.get_variable(\"y\", [1, n_rules], initializer=tf.random_normal_initializer(0, 1))  # Sequent centers\n\n        self.params = tf.trainable_variables()\n\n        self.rul = tf.reduce_prod(\n            tf.reshape(tf.exp(-0.5 * tf.square(tf.subtract(tf.tile(self.inputs, (1, n_rules)), mu)) / tf.square(sigma)),\n                       (-1, n_rules, n_inputs)), axis=2)  # Rule activations\n        # Fuzzy base expansion function:\n        num = tf.reduce_sum(tf.multiply(self.rul, y), axis=1)\n        den = tf.clip_by_value(tf.reduce_sum(self.rul, axis=1), 1e-12, 1e12)\n        self.out = tf.divide(num, den)\n\n        self.loss = tf.losses.huber_loss(self.targets, self.out)  # Loss function computation\n        # Other loss functions for regression, uncomment to try them:\n        # loss = tf.sqrt(tf.losses.mean_squared_error(target, out))\n        # loss = tf.losses.absolute_difference(target, out)\n        self.optimize = tf.train.AdamOptimizer(learning_rate=learning_rate).minimize(self.loss)  # Optimization step\n        # Other optimizers, uncomment to try them:\n        # self.optimize = tf.train.RMSPropOptimizer(learning_rate=learning_rate).minimize(self.loss)\n        # self.optimize = tf.train.GradientDescentOptimizer(learning_rate=learning_rate).minimize(self.loss)\n        self.init_variables = tf.global_variables_initializer()  # Variable initializer\n\n    def infer(self, sess, x, targets=None):\n        if targets is None:\n            return sess.run(self.out, feed_dict={self.inputs: x})\n        else:\n            return sess.run([self.out, self.loss], feed_dict={self.inputs: x, self.targets: targets})\n\n    def train(self, sess, x, targets):\n        yp, l, _ = sess.run([self.out, self.loss, self.optimize], feed_dict={self.inputs: x, self.targets: targets})\n        return l, yp\n\n    def plotmfs(self, sess):\n        mus = sess.run(self.params[0])\n        mus = np.reshape(mus, (self.m, self.n))\n        sigmas = sess.run(self.params[1])\n        sigmas = np.reshape(sigmas, (self.m, self.n))\n        y = sess.run(self.params[2])\n        xn = np.linspace(-1.5, 1.5, 1000)\n        for r in range(self.m):\n            if r % 4 == 0:\n                plt.figure(figsize=(11, 6), dpi=80)\n            plt.subplot(2, 2, (r % 4) + 1)\n            ax = plt.subplot(2, 2, (r % 4) + 1)\n            ax.set_title(\"Rule %d, sequent center: %f\" % ((r + 1), y[0, r]))\n            for i in range(self.n):\n                plt.plot(xn, np.exp(-0.5 * ((xn - mus[r, i]) ** 2) / (sigmas[r, i] ** 2)))",
      "execution_count": 7,
      "outputs": []
    },
    {
      "metadata": {
        "trusted": true
      },
      "cell_type": "code",
      "source": "import time\nimport tensorflow as tf\nimport numpy as np\nimport matplotlib.pyplot as plt\nimport anfis\nfrom anfis.membership import ANFIS\n\n\n# Mackey-Glass series computation\ndef mackey(n_iters):\n    x = np.zeros((n_iters,))\n    x[0:30] = 0.23 * np.ones((30,))\n    t_s = 30\n    for i in range(30, n_iters - 1):\n        a = x[i]\n        b = x[i - t_s]\n        y = ((0.2 * b) / (1 + b ** 10)) + 0.9 * a\n        x[i + 1] = y\n    return x\n\n\n# Generate dataset\nD = 4  # number of regressors\nT = 1  # delay\nN = 2000  # Number of points to generate\nmg_series = mackey(N)[499:]  # Use last 1500 points\ndata = np.zeros((N - 500 - T - (D - 1) * T, D))\nlbls = np.zeros((N - 500 - T - (D - 1) * T,))\n\nfor t in range((D - 1) * T, N - 500 - T):\n    data[t - (D - 1) * T, :] = [mg_series[t - 3 * T], mg_series[t - 2 * T], mg_series[t - T], mg_series[t]]\n    lbls[t - (D - 1) * T] = mg_series[t + T]\ntrnData = data[:lbls.size - round(lbls.size * 0.3), :]\ntrnLbls = lbls[:lbls.size - round(lbls.size * 0.3)]\nchkData = data[lbls.size - round(lbls.size * 0.3):, :]\nchkLbls = lbls[lbls.size - round(lbls.size * 0.3):]\n\n# ANFIS params and Tensorflow graph initialization\nm = 16  # number of rules\nalpha = 0.01  # learning rate\n\nfis = ANFIS(n_inputs=D, n_rules=m, learning_rate=alpha)\n\n# Training\nnum_epochs = 100\n\n# Initialize session to make computations on the Tensorflow graph\nwith tf.Session() as sess:\n    # Initialize model parameters\n    sess.run(fis.init_variables)\n    trn_costs = []\n    val_costs = []\n    time_start = time.time()\n    for epoch in range(num_epochs):\n        #  Run an update step\n        trn_loss, trn_pred = fis.train(sess, trnData, trnLbls)\n        # Evaluate on validation set\n        val_pred, val_loss = fis.infer(sess, chkData, chkLbls)\n        if epoch % 10 == 0:\n            print(\"Train cost after epoch %i: %f\" % (epoch, trn_loss))\n        if epoch == num_epochs - 1:\n            time_end = time.time()\n            print(\"Elapsed time: %f\" % (time_end - time_start))\n            print(\"Validation loss: %f\" % val_loss)\n            # Plot real vs. predicted\n            pred = np.vstack((np.expand_dims(trn_pred, 1), np.expand_dims(val_pred, 1)))\n            plt.figure(1)\n            plt.plot(mg_series)\n            plt.plot(pred)\n        trn_costs.append(trn_loss)\n        val_costs.append(val_loss)\n    # Plot the cost over epochs\n    plt.figure(2)\n    plt.subplot(2, 1, 1)\n    plt.plot(np.squeeze(trn_costs))\n    plt.title(\"Training loss, Learning rate =\" + str(alpha))\n    plt.subplot(2, 1, 2)\n    plt.plot(np.squeeze(val_costs))\n    plt.title(\"Validation loss, Learning rate =\" + str(alpha))\n    plt.ylabel('Cost')\n    plt.xlabel('Epochs')\n    # Plot resulting membership functions\n    fis.plotmfs(sess)\n    plt.show()",
      "execution_count": 12,
      "outputs": [
        {
          "output_type": "error",
          "ename": "ImportError",
          "evalue": "No module named 'anfis'",
          "traceback": [
            "\u001b[0;31m---------------------------------------------------------------------------\u001b[0m",
            "\u001b[0;31mImportError\u001b[0m                               Traceback (most recent call last)",
            "\u001b[0;32m<ipython-input-12-f49b3e9243aa>\u001b[0m in \u001b[0;36m<module>\u001b[0;34m()\u001b[0m\n\u001b[1;32m      3\u001b[0m \u001b[0;32mimport\u001b[0m \u001b[0mnumpy\u001b[0m \u001b[0;32mas\u001b[0m \u001b[0mnp\u001b[0m\u001b[0;34m\u001b[0m\u001b[0m\n\u001b[1;32m      4\u001b[0m \u001b[0;32mimport\u001b[0m \u001b[0mmatplotlib\u001b[0m\u001b[0;34m.\u001b[0m\u001b[0mpyplot\u001b[0m \u001b[0;32mas\u001b[0m \u001b[0mplt\u001b[0m\u001b[0;34m\u001b[0m\u001b[0m\n\u001b[0;32m----> 5\u001b[0;31m \u001b[0;32mimport\u001b[0m \u001b[0manfis\u001b[0m\u001b[0;34m\u001b[0m\u001b[0m\n\u001b[0m\u001b[1;32m      6\u001b[0m \u001b[0;32mfrom\u001b[0m \u001b[0manfis\u001b[0m\u001b[0;34m.\u001b[0m\u001b[0mmembership\u001b[0m \u001b[0;32mimport\u001b[0m \u001b[0mANFIS\u001b[0m\u001b[0;34m\u001b[0m\u001b[0m\n\u001b[1;32m      7\u001b[0m \u001b[0;34m\u001b[0m\u001b[0m\n",
            "\u001b[0;31mImportError\u001b[0m: No module named 'anfis'"
          ]
        }
      ]
    },
    {
      "metadata": {
        "trusted": true
      },
      "cell_type": "code",
      "source": "",
      "execution_count": null,
      "outputs": []
    }
  ],
  "metadata": {
    "kernelspec": {
      "name": "python3",
      "display_name": "Python 3",
      "language": "python"
    },
    "language_info": {
      "mimetype": "text/x-python",
      "nbconvert_exporter": "python",
      "name": "python",
      "pygments_lexer": "ipython3",
      "version": "3.5.4",
      "file_extension": ".py",
      "codemirror_mode": {
        "version": 3,
        "name": "ipython"
      }
    }
  },
  "nbformat": 4,
  "nbformat_minor": 1
}