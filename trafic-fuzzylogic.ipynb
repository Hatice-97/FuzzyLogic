{
  "cells": [
    {
      "metadata": {
        "trusted": true
      },
      "cell_type": "code",
      "source": "from fuzzy_logic import *\n\n\ndef main():\n    occupancyFactor = float(input('Enter occupancy factor: ')) * 100\n    averageDistance = float(input('Enter average distance: ')) * 100\n    trafficIntensity = float(input('Enter traffic intensity factor: ')) * 100\n    rules = evaluateRules(occupancyFactor, averageDistance, trafficIntensity)\n    outputMfs = {'vs': getVSPlots(), 's': getSPlots(), 'rs': getRSPlots(), 'm': getMPlots(),\n                 'rl': getRLPlots(), 'l': getLPlots(), 'vl': getVLPlots()\n                 }\n    aggregatedPlots = fisAggregation(rules, outputMfs)\n    centroid = getCentroid(aggregatedPlots) / 100\n    print(centroid)\n\n\ndef fisAggregation(rules, outputMfs):\n    vs = outputMfs['vs']\n    s = outputMfs['s']\n    rs = outputMfs['rs']\n    m = outputMfs['m']\n    rl = outputMfs['rl']\n    l = outputMfs['l']\n    vl = outputMfs['vl']\n    aggregatePlots = [0] * 100\n    for rule in range(len(rules)):\n        for i in range(100):\n            if rules[rule][0] > 0 and i < 20:\n                aggregatePlots[i] = min(rules[rule][0], vs[i])\n            if rules[rule][1] > 0 and i > 15 and i < 35:\n                aggregatePlots[i] = min(rules[rule][1], s[i])\n            if rules[rule][2] > 0 and i > 30 and i < 45:\n                aggregatePlots[i] = min(rules[rule][2], rs[i])\n            if rules[rule][3] > 0 and i > 40 and i < 60:\n                aggregatePlots[i] = min(rules[rule][3], m[i])\n            if rules[rule][4] > 0 and i > 55 and i < 70:\n                aggregatePlots[i] = min(rules[rule][4], rl[i])\n            if rules[rule][5] > 0 and i > 65 and i < 85:\n                aggregatePlots[i] = min(rules[rule][5], l[i])\n            if rules[rule][6] > 0 and i > 80:\n                aggregatePlots[i] = min(rules[rule][6], vl[i])\n    return aggregatePlots\n\n\ndef evaluateRules(occupancyFactor, averageDistance, trafficIntensity):\n    \"\"\"\n        rowSize = 27 ; rules\n        colSize = 7  ; membership functions of output variable \"n\"\n    \"\"\"\n    rules = [[0] * 7 for i in range(27)]\n    \"\"\"\n        Definitions\n\n        Input \"m\": occupancy factor\n            ml - low\n            mm - medium\n            mh - high\n        \n        Input \"s\": average distance\n            ss - short\n            sm - medium\n            sl - long\n\n        Input \"p\": traffic intensity\n            pl - low\n            pm - medium\n            ph - high\n    \"\"\"\n    ml = fuzzifyOccupancyLow(occupancyFactor)\n    mm = fuzzifyOccupancyMedium(occupancyFactor)\n    mh = fuzzifyOccupancyHigh(occupancyFactor)\n\n    ss = fuzzifyAverageDistanceShort(averageDistance)\n    sm = fuzzifyAverageDistanceMedium(averageDistance)\n    sl = fuzzifyAverageDistanceLong(averageDistance)\n\n    pl = fuzzifyTrafficIntensityLow(trafficIntensity)\n    pm = fuzzifyTrafficIntensityMedium(trafficIntensity)\n    ph = fuzzifyTrafficIntensityHigh(trafficIntensity)\n\n    \"\"\"\n        MembershipOutputIndex:\n            VS - 0\n            S - 1\n            RS - 2\n            ...\n            VL - 6\n\n        For all \"n\" with output VS, store it in column 0, and for S in column 1 ...\n    \"\"\"\n    # rules[ruleIndex][membershipOutputIndex]\n    rules[0][0] = min(min(ml, ss), pl)\n    rules[1][0] = min(min(mm, ss), pl)\n    rules[2][0] = min(min(mh, ss), pl)\n    rules[3][0] = min(min(ml, sm), pl)\n    rules[4][0] = min(min(mm, sm), pl)\n    rules[5][0] = min(min(mh, sm), pl)\n    rules[6][1] = min(min(ml, sl), pl)\n    rules[7][1] = min(min(mm, sl), pl)\n    rules[8][0] = min(min(mh, sl), pl)\n    rules[9][1] = min(min(ml, ss), pm)\n    rules[10][0] = min(min(mm, ss), pm)\n    rules[11][0] = min(min(mh, ss), pm)\n    rules[12][2] = min(min(ml, sm), pm)\n    rules[13][1] = min(min(mm, sm), pm)\n    rules[14][0] = min(min(mh, sm), pm)\n    rules[15][1] = min(min(ml, sl), pm)\n    rules[16][2] = min(min(mm, sl), pm)\n    rules[17][1] = min(min(mh, sl), pm)\n    rules[18][6] = min(min(ml, ss), ph)\n    rules[19][5] = min(min(mm, ss), ph)\n    rules[20][3] = min(min(mh, ss), ph)\n    rules[21][3] = min(min(ml, sm), ph)\n    rules[22][3] = min(min(mm, sm), ph)\n    rules[23][1] = min(min(mh, sm), ph)\n    rules[24][4] = min(min(ml, sl), ph)\n    rules[25][3] = min(min(mm, sl), ph)\n    rules[26][2] = min(min(mh, sl), ph)\n    return rules\n\n\ndef fuzzifyOccupancyLow(occupancyFactor):\n    return trapmf(occupancyFactor, [0, 0, 20, 40])\n\n\ndef fuzzifyOccupancyMedium(occupancyFactor):\n    return trimf(occupancyFactor,  [20, 50, 80])\n\n\ndef fuzzifyOccupancyHigh(occupancyFactor):\n    return trapmf(occupancyFactor, [60, 80, 100, 100])\n\n\ndef fuzzifyAverageDistanceShort(averageDistance):\n    return trapmf(averageDistance, [0, 0, 20, 40])\n\n\ndef fuzzifyAverageDistanceMedium(averageDistance):\n    return trimf(averageDistance, [20, 50, 80])\n\n\ndef fuzzifyAverageDistanceLong(averageDistance):\n    return trapmf(averageDistance, [60, 80, 100, 100])\n\n\ndef fuzzifyTrafficIntensityLow(trafficIntensity):\n    return trapmf(trafficIntensity, [0, 0, 20, 40])\n\n\ndef fuzzifyTrafficIntensityMedium(trafficIntensity):\n    return trimf(trafficIntensity, [20, 50, 80])\n\n\ndef fuzzifyTrafficIntensityHigh(trafficIntensity):\n    return trapmf(trafficIntensity, [60, 80, 100, 100])\n\n\ndef getVSPlots():\n    return getTrapmfPlots(0, 100, [0, 0, 10, 20], \"left\")\n\n\ndef getSPlots():\n    return getTrimfPlots(0, 100, [15, 25, 35])\n\n\ndef getRSPlots():\n    return getTrimfPlots(0, 100, [30, 35, 45])\n\n\ndef getMPlots():\n    return getTrimfPlots(0, 100, [40, 50, 60])\n\n\ndef getRLPlots():\n    return getTrimfPlots(0, 100, [55, 65, 70])\n\n\ndef getLPlots():\n    return getTrimfPlots(0, 100, [65, 75, 85])\n\n\ndef getVLPlots():\n    return getTrapmfPlots(0, 100, [80, 90, 100, 100], \"right\")\n\n\nif __name__ == '__main__':\n    main()",
      "execution_count": 3,
      "outputs": [
        {
          "output_type": "stream",
          "name": "stdout",
          "text": "Enter occupancy factor: 0\nEnter average distance: 40\nEnter traffic intensity factor: 20\n"
        },
        {
          "output_type": "error",
          "ename": "ZeroDivisionError",
          "evalue": "integer division or modulo by zero",
          "traceback": [
            "\u001b[0;31m\u001b[0m",
            "\u001b[0;31mZeroDivisionError\u001b[0mTraceback (most recent call last)",
            "\u001b[0;32m<ipython-input-3-658abd765ca9>\u001b[0m in \u001b[0;36m<module>\u001b[0;34m()\u001b[0m\n\u001b[1;32m    185\u001b[0m \u001b[0;34m\u001b[0m\u001b[0m\n\u001b[1;32m    186\u001b[0m \u001b[0;32mif\u001b[0m \u001b[0m__name__\u001b[0m \u001b[0;34m==\u001b[0m \u001b[0;34m'__main__'\u001b[0m\u001b[0;34m:\u001b[0m\u001b[0;34m\u001b[0m\u001b[0m\n\u001b[0;32m--> 187\u001b[0;31m     \u001b[0mmain\u001b[0m\u001b[0;34m(\u001b[0m\u001b[0;34m)\u001b[0m\u001b[0;34m\u001b[0m\u001b[0m\n\u001b[0m",
            "\u001b[0;32m<ipython-input-3-658abd765ca9>\u001b[0m in \u001b[0;36mmain\u001b[0;34m()\u001b[0m\n\u001b[1;32m     11\u001b[0m                  }\n\u001b[1;32m     12\u001b[0m     \u001b[0maggregatedPlots\u001b[0m \u001b[0;34m=\u001b[0m \u001b[0mfisAggregation\u001b[0m\u001b[0;34m(\u001b[0m\u001b[0mrules\u001b[0m\u001b[0;34m,\u001b[0m \u001b[0moutputMfs\u001b[0m\u001b[0;34m)\u001b[0m\u001b[0;34m\u001b[0m\u001b[0m\n\u001b[0;32m---> 13\u001b[0;31m     \u001b[0mcentroid\u001b[0m \u001b[0;34m=\u001b[0m \u001b[0mgetCentroid\u001b[0m\u001b[0;34m(\u001b[0m\u001b[0maggregatedPlots\u001b[0m\u001b[0;34m)\u001b[0m \u001b[0;34m/\u001b[0m \u001b[0;36m100\u001b[0m\u001b[0;34m\u001b[0m\u001b[0m\n\u001b[0m\u001b[1;32m     14\u001b[0m     \u001b[0;32mprint\u001b[0m\u001b[0;34m(\u001b[0m\u001b[0mcentroid\u001b[0m\u001b[0;34m)\u001b[0m\u001b[0;34m\u001b[0m\u001b[0m\n\u001b[1;32m     15\u001b[0m \u001b[0;34m\u001b[0m\u001b[0m\n",
            "\u001b[0;32m/home/nbuser/library/fuzzy_logic.pyc\u001b[0m in \u001b[0;36mgetCentroid\u001b[0;34m(aggregatedPlots)\u001b[0m\n\u001b[1;32m    104\u001b[0m         \u001b[0mcentroidNum\u001b[0m \u001b[0;34m+=\u001b[0m \u001b[0mxAxis\u001b[0m\u001b[0;34m[\u001b[0m\u001b[0mi\u001b[0m\u001b[0;34m]\u001b[0m \u001b[0;34m*\u001b[0m \u001b[0maggregatedPlots\u001b[0m\u001b[0;34m[\u001b[0m\u001b[0mi\u001b[0m\u001b[0;34m]\u001b[0m\u001b[0;34m\u001b[0m\u001b[0m\n\u001b[1;32m    105\u001b[0m         \u001b[0mcentroidDenum\u001b[0m \u001b[0;34m+=\u001b[0m \u001b[0maggregatedPlots\u001b[0m\u001b[0;34m[\u001b[0m\u001b[0mi\u001b[0m\u001b[0;34m]\u001b[0m\u001b[0;34m\u001b[0m\u001b[0m\n\u001b[0;32m--> 106\u001b[0;31m     \u001b[0;32mreturn\u001b[0m \u001b[0mcentroidNum\u001b[0m \u001b[0;34m/\u001b[0m \u001b[0mcentroidDenum\u001b[0m\u001b[0;34m\u001b[0m\u001b[0m\n\u001b[0m",
            "\u001b[0;31mZeroDivisionError\u001b[0m: integer division or modulo by zero"
          ]
        }
      ]
    },
    {
      "metadata": {},
      "cell_type": "markdown",
      "source": ""
    }
  ],
  "metadata": {
    "kernelspec": {
      "name": "python2",
      "display_name": "Python 2",
      "language": "python"
    },
    "language_info": {
      "mimetype": "text/x-python",
      "nbconvert_exporter": "python",
      "name": "python",
      "pygments_lexer": "ipython2",
      "version": "2.7.15",
      "file_extension": ".py",
      "codemirror_mode": {
        "version": 2,
        "name": "ipython"
      }
    }
  },
  "nbformat": 4,
  "nbformat_minor": 1
}