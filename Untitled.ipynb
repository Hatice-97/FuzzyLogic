{
  "cells": [
    {
      "metadata": {
        "trusted": true
      },
      "cell_type": "code",
      "source": "#!/usr/bin/env python\nfrom ranges import *\nimport json\n\n\ndef compute_fuzzy_powder_amount(laundry_amount_fuzzy, dirt_level_fuzzy):\n  \"\"\"Computes the fuzzy output (powder amount) based on the fuzzy input params\n     (laundry amount and dirt level).\"\"\"\n\n  expert_rule_map = {\n     (Quantity.SMALL, Level.LOW): Quantity.SMALL,\n     (Quantity.MEDIUM, Level.LOW): Quantity.MEDIUM,\n     (Quantity.LARGE, Level.LOW): Quantity.MEDIUM,\n     (Quantity.SMALL, Level.HIGH): Quantity.MEDIUM,\n     (Quantity.MEDIUM, Level.HIGH): Quantity.LARGE,\n     (Quantity.LARGE, Level.HIGH): Quantity.LARGE}\n  \"\"\"Maps the expert rules as:\n     (laundry_amount_fuzzy, dirt_level_fuzzy) -> powder_amount_fuzzy\"\"\"\n\n  fuzzy_input_parameters = (laundry_amount_fuzzy, dirt_level_fuzzy)\n  fuzzy_output = expert_rule_map.get(fuzzy_input_parameters, None)\n\n  if fuzzy_output is None:\n    raise Exception(\n        \"Case not covered for (laundry_amount = %s, dirt_level = %s)\" %\n        (laundry_amount_fuzzy, dirt_level_fuzzy))\n  else:\n    return fuzzy_output\n\n\ndef compute_washing_parameters(laundry_weight_kg, dirt_level):\n  \"\"\"Computes required washing parameters based on provided sensor and user\n     input (all inputs are numerical values).\"\"\"\n  if laundry_weight_kg < 0.0 or laundry_weight_kg > 8.0:\n    raise Exception(\"Invalid value for laundry weight: %lf\" % laundry_weight_kg)\n\n  if dirt_level < 1.0 or dirt_level > 10.0:\n    raise Exception(\"Invalid value for dirt level: %lf\" % dirt_level)\n\n  # Encode numerical to fuzzy.\n  laundry_amount_fuzzy = fuzzify_laundry(laundry_weight_kg)\n  dirt_level_fuzzy = fuzzify_dirty(dirt_level)\n\n  # Apply the expert rules.\n  powder_amount_fuzzy = compute_fuzzy_powder_amount(laundry_amount_fuzzy,\n                                                    dirt_level_fuzzy)\n\n  # Decode the fuzzy result to numerical amount.\n  powder_amount_grams = defuzzify(powder_amount_fuzzy)\n\n  return {\"powder_amount_grams\": powder_amount_grams}\n\n\nif __name__ == \"__main__\":\n  laundry_weight_kg = float(raw_input(\"Laundry weight (kg) [0-8]: \"))\n  dirt_level = float(raw_input(\"Dirt level [1-10]: \"))\n  washing_parameters = compute_washing_parameters(laundry_weight_kg, dirt_level)\n  y=json.dumps(washing_parameters, indent=2)\nprint(y)\n",
      "execution_count": 3,
      "outputs": [
        {
          "output_type": "error",
          "ename": "ModuleNotFoundError",
          "evalue": "No module named 'ranges'",
          "traceback": [
            "\u001b[0;31m---------------------------------------------------------------------------\u001b[0m",
            "\u001b[0;31mModuleNotFoundError\u001b[0m                       Traceback (most recent call last)",
            "\u001b[0;32m<ipython-input-3-942cff36b2aa>\u001b[0m in \u001b[0;36m<module>\u001b[0;34m\u001b[0m\n\u001b[1;32m      1\u001b[0m \u001b[0;31m#!/usr/bin/env python\u001b[0m\u001b[0;34m\u001b[0m\u001b[0;34m\u001b[0m\u001b[0m\n\u001b[0;32m----> 2\u001b[0;31m \u001b[0;32mfrom\u001b[0m \u001b[0mranges\u001b[0m \u001b[0;32mimport\u001b[0m \u001b[0;34m*\u001b[0m\u001b[0;34m\u001b[0m\u001b[0m\n\u001b[0m\u001b[1;32m      3\u001b[0m \u001b[0;32mimport\u001b[0m \u001b[0mjson\u001b[0m\u001b[0;34m\u001b[0m\u001b[0m\n\u001b[1;32m      4\u001b[0m \u001b[0;34m\u001b[0m\u001b[0m\n\u001b[1;32m      5\u001b[0m \u001b[0;34m\u001b[0m\u001b[0m\n",
            "\u001b[0;31mModuleNotFoundError\u001b[0m: No module named 'ranges'"
          ]
        }
      ]
    },
    {
      "metadata": {
        "trusted": true
      },
      "cell_type": "code",
      "source": "import numpy as np\nimport skfuzzy as fuzz\nfrom skfuzzy import control as ctrl\n\n# New Antecedent/Consequent objects hold universe variables and membership\n# functions\nquality = ctrl.Antecedent(np.arange(0, 11, 1), 'quality')\nservice = ctrl.Antecedent(np.arange(0, 11, 1), 'service')\ntip = ctrl.Consequent(np.arange(0, 26, 1), 'tip')\n\n# Auto-membership function population is possible with .automf(3, 5, or 7)\nquality.automf(3)\nservice.automf(3)\n\n# Custom membership functions can be built interactively with a familiar,\n# Pythonic API\ntip['low'] = fuzz.trimf(tip.universe, [0, 0, 13])\ntip['medium'] = fuzz.trimf(tip.universe, [0, 13, 25])\ntip['high'] = fuzz.trimf(tip.universe, [13, 25, 25])",
      "execution_count": 4,
      "outputs": [
        {
          "output_type": "error",
          "ename": "ModuleNotFoundError",
          "evalue": "No module named 'skfuzzy'",
          "traceback": [
            "\u001b[0;31m---------------------------------------------------------------------------\u001b[0m",
            "\u001b[0;31mModuleNotFoundError\u001b[0m                       Traceback (most recent call last)",
            "\u001b[0;32m<ipython-input-4-9005ebfe6ec3>\u001b[0m in \u001b[0;36m<module>\u001b[0;34m\u001b[0m\n\u001b[1;32m      1\u001b[0m \u001b[0;32mimport\u001b[0m \u001b[0mnumpy\u001b[0m \u001b[0;32mas\u001b[0m \u001b[0mnp\u001b[0m\u001b[0;34m\u001b[0m\u001b[0m\n\u001b[0;32m----> 2\u001b[0;31m \u001b[0;32mimport\u001b[0m \u001b[0mskfuzzy\u001b[0m \u001b[0;32mas\u001b[0m \u001b[0mfuzz\u001b[0m\u001b[0;34m\u001b[0m\u001b[0m\n\u001b[0m\u001b[1;32m      3\u001b[0m \u001b[0;32mfrom\u001b[0m \u001b[0mskfuzzy\u001b[0m \u001b[0;32mimport\u001b[0m \u001b[0mcontrol\u001b[0m \u001b[0;32mas\u001b[0m \u001b[0mctrl\u001b[0m\u001b[0;34m\u001b[0m\u001b[0m\n\u001b[1;32m      4\u001b[0m \u001b[0;34m\u001b[0m\u001b[0m\n\u001b[1;32m      5\u001b[0m \u001b[0;31m# New Antecedent/Consequent objects hold universe variables and membership\u001b[0m\u001b[0;34m\u001b[0m\u001b[0;34m\u001b[0m\u001b[0m\n",
            "\u001b[0;31mModuleNotFoundError\u001b[0m: No module named 'skfuzzy'"
          ]
        }
      ]
    },
    {
      "metadata": {
        "trusted": true
      },
      "cell_type": "code",
      "source": "import skyfuzzy",
      "execution_count": 5,
      "outputs": [
        {
          "output_type": "error",
          "ename": "ModuleNotFoundError",
          "evalue": "No module named 'skyfuzzy'",
          "traceback": [
            "\u001b[0;31m---------------------------------------------------------------------------\u001b[0m",
            "\u001b[0;31mModuleNotFoundError\u001b[0m                       Traceback (most recent call last)",
            "\u001b[0;32m<ipython-input-5-b5959f21a0ff>\u001b[0m in \u001b[0;36m<module>\u001b[0;34m\u001b[0m\n\u001b[0;32m----> 1\u001b[0;31m \u001b[0;32mimport\u001b[0m \u001b[0mskyfuzzy\u001b[0m\u001b[0;34m\u001b[0m\u001b[0m\n\u001b[0m",
            "\u001b[0;31mModuleNotFoundError\u001b[0m: No module named 'skyfuzzy'"
          ]
        }
      ]
    },
    {
      "metadata": {
        "trusted": true
      },
      "cell_type": "code",
      "source": "import skfuzzy",
      "execution_count": 8,
      "outputs": [
        {
          "output_type": "error",
          "ename": "ModuleNotFoundError",
          "evalue": "No module named 'skfuzzy'",
          "traceback": [
            "\u001b[0;31m---------------------------------------------------------------------------\u001b[0m",
            "\u001b[0;31mModuleNotFoundError\u001b[0m                       Traceback (most recent call last)",
            "\u001b[0;32m<ipython-input-8-3fed557aa7c3>\u001b[0m in \u001b[0;36m<module>\u001b[0;34m\u001b[0m\n\u001b[0;32m----> 1\u001b[0;31m \u001b[0;32mimport\u001b[0m \u001b[0mskfuzzy\u001b[0m\u001b[0;34m\u001b[0m\u001b[0m\n\u001b[0m",
            "\u001b[0;31mModuleNotFoundError\u001b[0m: No module named 'skfuzzy'"
          ]
        }
      ]
    },
    {
      "metadata": {
        "trusted": true
      },
      "cell_type": "code",
      "source": "pip install -U scikit-fuzzy",
      "execution_count": 9,
      "outputs": [
        {
          "output_type": "stream",
          "text": "\nThe following command must be run outside of the IPython shell:\n\n    $ pip install -U scikit-fuzzy\n\nThe Python package manager (pip) can only be used from outside of IPython.\nPlease reissue the `pip` command in a separate terminal or command prompt.\n\nSee the Python documentation for more information on how to install packages:\n\n    https://docs.python.org/3/installing/\n",
          "name": "stdout"
        }
      ]
    },
    {
      "metadata": {
        "trusted": true
      },
      "cell_type": "code",
      "source": "import skfuzzy",
      "execution_count": 10,
      "outputs": [
        {
          "output_type": "error",
          "ename": "ModuleNotFoundError",
          "evalue": "No module named 'skfuzzy'",
          "traceback": [
            "\u001b[0;31m---------------------------------------------------------------------------\u001b[0m",
            "\u001b[0;31mModuleNotFoundError\u001b[0m                       Traceback (most recent call last)",
            "\u001b[0;32m<ipython-input-10-3fed557aa7c3>\u001b[0m in \u001b[0;36m<module>\u001b[0;34m\u001b[0m\n\u001b[0;32m----> 1\u001b[0;31m \u001b[0;32mimport\u001b[0m \u001b[0mskfuzzy\u001b[0m\u001b[0;34m\u001b[0m\u001b[0m\n\u001b[0m",
            "\u001b[0;31mModuleNotFoundError\u001b[0m: No module named 'skfuzzy'"
          ]
        }
      ]
    },
    {
      "metadata": {
        "trusted": true
      },
      "cell_type": "code",
      "source": "import numpy as np\nimport skfuzzy as fuzz\nimport skfuzzy.membership as mf\nimport matplotlib.pyplot as plt\n\n# Değişkenlerin oluşturulması\n\nx_pedal = np.arange(0, 101, 1)\nx_speed = np.arange(0, 101, 1)\ny_brake = np.arange(0, 101, 1)\n\n# Üyelik fonksiyonlarının oluşturulması\n\npedal_low = mf.trimf(x_pedal, [0, 0, 50])\npedal_med = mf.trimf(x_pedal, [0, 50, 100])\npedal_hig = mf.trimf(x_pedal, [50, 100, 100])\n\nspeed_low = mf.trimf(x_pedal, [0, 0, 60])\nspeed_med = mf.trimf(x_pedal, [20, 50, 80])\nspeed_hig = mf.trimf(x_pedal, [40, 100, 100])\n\nbrake_poor = mf.trimf(y_brake, [0, 0, 100])\nbrake_strong = mf.trimf(y_brake, [0, 100, 100])\n\n# Veri görselleştirme\n\nfig, (ax0, ax1, ax2) = plt.subplots(nrows = 3, figsize =(6, 10))\n\nax0.plot(x_pedal, pedal_low, 'r', linewidth = 2, label = 'Düşük')\nax0.plot(x_pedal, pedal_med, 'g', linewidth = 2, label = 'Orta')\nax0.plot(x_pedal, pedal_hig, 'b', linewidth = 2, label = 'Yüksek')\nax0.set_title('Pedal Basıncı')\nax0.legend()\n\nax1.plot(x_speed, speed_low, 'r', linewidth = 2, label = 'Düşük')\nax1.plot(x_speed, speed_med, 'g', linewidth = 2, label = 'Orta')\nax1.plot(x_speed, speed_hig, 'b', linewidth = 2, label = 'Yüksek')\nax1.set_title('Araç Hızı')\nax1.legend()\n\nax2.plot(y_brake, brake_poor, 'r', linewidth = 2, label = 'Zayıf')\nax2.plot(y_brake, brake_strong, 'b', linewidth = 2, label = 'Güçlü')\nax2.set_title('Fren')\nax2.legend()\n\nplt.tight_layout()\n\ninput_pedal = 40\ninput_speed = 75\n\n# Üyelik derecelerinin hesaplanması\n\npedal_fit_low = fuzz.interp_membership(x_pedal, pedal_low, input_pedal)\npedal_fit_med = fuzz.interp_membership(x_pedal, pedal_med, input_pedal)\npedal_fit_hig = fuzz.interp_membership(x_pedal, pedal_hig, input_pedal)\n\nspeed_fit_low = fuzz.interp_membership(x_speed, speed_low, input_speed)\nspeed_fit_med = fuzz.interp_membership(x_speed, speed_med, input_speed)\nspeed_fit_hig = fuzz.interp_membership(x_speed, speed_hig, input_speed)\n\n# Kuralların oluşturulması\n\nrule1 = np.fmin(pedal_fit_med, brake_strong)\nrule2 = np.fmin(np.fmin(pedal_fit_hig, speed_fit_hig), brake_strong)\nrule3 = np.fmin(np.fmax(pedal_fit_low, speed_fit_low), brake_poor)\nrule4 = np.fmin(pedal_fit_low, brake_poor)\n\n# Birleşim kümelerinin oluşturulması\n\nout_strong = np.fmax(rule1, rule2)\nout_poor = np.fmax(rule3, rule4)\n\n# Veri görselleştirme\n\nbrake0 = np.zeros_like(y_brake)\n\nfig, ax0 = plt.subplots(figsize = (7, 4))\nax0.fill_between(y_brake, brake0, out_poor, facecolor = 'r', alpha = 0.7)\nax0.plot(y_brake, brake_poor, 'r', linestyle = '--')\nax0.fill_between(y_brake, brake0, out_strong, facecolor = 'g', alpha = 0.7)\nax0.plot(y_brake, brake_strong, 'g', linestyle = '--')\nax0.set_title('Fren Çıkışı')\n\nplt.tight_layout()\n\n# Durulaştırma\n\nout_brake = np.fmax(out_poor, out_strong)\n\ndefuzzified  = fuzz.defuzz(y_brake, out_brake, 'centroid')\n\nresult = fuzz.interp_membership(y_brake, out_brake, defuzzified)\n\n# Sonuç\n\nprint(\"(Fren)Çıkış Değeri:\", defuzzified)\n\n# Veri görselleştirme\n\nfig, ax0 = plt.subplots(figsize=(7, 4))\n\nax0.plot(y_brake, brake_poor, 'b', linewidth = 0.5, linestyle = '--')\nax0.plot(y_brake, brake_strong, 'g', linewidth = 0.5, linestyle = '--')\nax0.fill_between(y_brake, brake0, out_brake, facecolor = 'Orange', alpha = 0.7)\nax0.plot([defuzzified , defuzzified], [0, result], 'k', linewidth = 1.5, alpha = 0.9)\nax0.set_title('Ağırlık Merkezi ile Durulaştırma')\n\nplt.tight_layout()",
      "execution_count": 11,
      "outputs": [
        {
          "output_type": "error",
          "ename": "ModuleNotFoundError",
          "evalue": "No module named 'skfuzzy'",
          "traceback": [
            "\u001b[0;31m---------------------------------------------------------------------------\u001b[0m",
            "\u001b[0;31mModuleNotFoundError\u001b[0m                       Traceback (most recent call last)",
            "\u001b[0;32m<ipython-input-11-a928f11b6619>\u001b[0m in \u001b[0;36m<module>\u001b[0;34m\u001b[0m\n\u001b[1;32m      1\u001b[0m \u001b[0;32mimport\u001b[0m \u001b[0mnumpy\u001b[0m \u001b[0;32mas\u001b[0m \u001b[0mnp\u001b[0m\u001b[0;34m\u001b[0m\u001b[0m\n\u001b[0;32m----> 2\u001b[0;31m \u001b[0;32mimport\u001b[0m \u001b[0mskfuzzy\u001b[0m \u001b[0;32mas\u001b[0m \u001b[0mfuzz\u001b[0m\u001b[0;34m\u001b[0m\u001b[0m\n\u001b[0m\u001b[1;32m      3\u001b[0m \u001b[0;32mimport\u001b[0m \u001b[0mskfuzzy\u001b[0m\u001b[0;34m.\u001b[0m\u001b[0mmembership\u001b[0m \u001b[0;32mas\u001b[0m \u001b[0mmf\u001b[0m\u001b[0;34m\u001b[0m\u001b[0m\n\u001b[1;32m      4\u001b[0m \u001b[0;32mimport\u001b[0m \u001b[0mmatplotlib\u001b[0m\u001b[0;34m.\u001b[0m\u001b[0mpyplot\u001b[0m \u001b[0;32mas\u001b[0m \u001b[0mplt\u001b[0m\u001b[0;34m\u001b[0m\u001b[0m\n\u001b[1;32m      5\u001b[0m \u001b[0;34m\u001b[0m\u001b[0m\n",
            "\u001b[0;31mModuleNotFoundError\u001b[0m: No module named 'skfuzzy'"
          ]
        }
      ]
    },
    {
      "metadata": {
        "trusted": true
      },
      "cell_type": "code",
      "source": "",
      "execution_count": null,
      "outputs": []
    }
  ],
  "metadata": {
    "kernelspec": {
      "name": "python36",
      "display_name": "Python 3.6",
      "language": "python"
    },
    "language_info": {
      "mimetype": "text/x-python",
      "nbconvert_exporter": "python",
      "name": "python",
      "pygments_lexer": "ipython3",
      "version": "3.6.6",
      "file_extension": ".py",
      "codemirror_mode": {
        "version": 3,
        "name": "ipython"
      }
    }
  },
  "nbformat": 4,
  "nbformat_minor": 1
}